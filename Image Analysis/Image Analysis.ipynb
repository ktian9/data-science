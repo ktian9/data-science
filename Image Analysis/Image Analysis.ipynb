{
 "cells": [
  {
   "cell_type": "code",
   "execution_count": 26,
   "metadata": {},
   "outputs": [
    {
     "name": "stderr",
     "output_type": "stream",
     "text": [
      "/Users/kevin/data-science/.venv/lib/python3.9/site-packages/urllib3/__init__.py:35: NotOpenSSLWarning: urllib3 v2 only supports OpenSSL 1.1.1+, currently the 'ssl' module is compiled with 'LibreSSL 2.8.3'. See: https://github.com/urllib3/urllib3/issues/3020\n",
      "  warnings.warn(\n"
     ]
    }
   ],
   "source": [
    "import base64\n",
    "from openai import AzureOpenAI\n",
    "from dotenv import load_dotenv\n",
    "import os"
   ]
  },
  {
   "cell_type": "code",
   "execution_count": 27,
   "metadata": {},
   "outputs": [
    {
     "data": {
      "text/plain": [
       "True"
      ]
     },
     "execution_count": 27,
     "metadata": {},
     "output_type": "execute_result"
    }
   ],
   "source": [
    "load_dotenv()"
   ]
  },
  {
   "cell_type": "code",
   "execution_count": 40,
   "metadata": {},
   "outputs": [],
   "source": [
    "def encode_image(image_path):\n",
    "  with open(image_path, \"rb\") as image_file:\n",
    "    return base64.b64encode(image_file.read()).decode('utf-8')"
   ]
  },
  {
   "cell_type": "code",
   "execution_count": 42,
   "metadata": {},
   "outputs": [],
   "source": [
    "img_path = \"/Users/kevin/Desktop/Edited Photos/Full/DSC05661-HDR.jpg\"\n",
    "img_64 = encode_image(img_path)\n"
   ]
  },
  {
   "cell_type": "code",
   "execution_count": 43,
   "metadata": {},
   "outputs": [],
   "source": [
    "client = AzureOpenAI(api_key=os.environ.get(\"OPENAI_API_KEY\"), api_version= os.environ.get(\"OPENAI_VERSION\"), base_url = os.environ.get(\"OPENAI_VISIONS_ENDPOINT\"))"
   ]
  },
  {
   "cell_type": "code",
   "execution_count": 45,
   "metadata": {},
   "outputs": [],
   "source": [
    "completion = client.chat.completions.create(model=\"gpt-4o\", messages=[\n",
    "    \n",
    "    {\n",
    "        \"role\": \"user\",\n",
    "        \"content\": [\n",
    "            {\n",
    "                \"type\":\"text\",\n",
    "                \"text\": \"What is in this image?\"\n",
    "            \n",
    "            \n",
    "            },\n",
    "\n",
    "\n",
    "            {\n",
    "                \n",
    "                \"type\":\"image_url\",\n",
    "                \"image_url\": {\n",
    "                    \"url\":  f\"data:image/jpeg;base64,{img_64}\"\n",
    "                }\n",
    "            }\n",
    "            \n",
    "            \n",
    "            ]\n",
    "  }\n",
    "  ],max_tokens = 500\n",
    ")"
   ]
  },
  {
   "cell_type": "code",
   "execution_count": 46,
   "metadata": {},
   "outputs": [
    {
     "name": "stdout",
     "output_type": "stream",
     "text": [
      "This image features a cityscape with several tall buildings and skyscrapers, some with varied architectural designs. In the foreground, there is a yellow road sign indicating \"SHARE THE ROAD\" with a speed limit of 5 MPH. To the right side, there's a distinctive modern white structure with horizontal slats, suggesting some architectural or public installation. The foreground also includes greenery, artwork on structures, and people walking, indicating a public space or park area in an urban environment. The urban area appears to be bustling with activities and movement.\n"
     ]
    }
   ],
   "source": [
    "print(completion.choices[0].message.content)"
   ]
  }
 ],
 "metadata": {
  "kernelspec": {
   "display_name": ".venv",
   "language": "python",
   "name": "python3"
  },
  "language_info": {
   "codemirror_mode": {
    "name": "ipython",
    "version": 3
   },
   "file_extension": ".py",
   "mimetype": "text/x-python",
   "name": "python",
   "nbconvert_exporter": "python",
   "pygments_lexer": "ipython3",
   "version": "3.9.6"
  }
 },
 "nbformat": 4,
 "nbformat_minor": 2
}
