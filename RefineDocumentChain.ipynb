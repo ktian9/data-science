{
 "cells": [
  {
   "cell_type": "code",
   "execution_count": 5,
   "metadata": {},
   "outputs": [
    {
     "name": "stdout",
     "output_type": "stream",
     "text": [
      "The token has not been saved to the git credentials helper. Pass `add_to_git_credential=True` in this function directly or `--add-to-git-credential` if using via `huggingface-cli` if you want to set the git credential as well.\n",
      "Token is valid (permission: read).\n",
      "Your token has been saved to /Users/kevin/.cache/huggingface/token\n",
      "Login successful\n"
     ]
    }
   ],
   "source": [
    "from huggingface_hub import login\n",
    "from dotenv import load_dotenv\n",
    "import os\n",
    "import torch\n",
    "from transformers import pipeline\n",
    "load_dotenv() \n",
    "login(token =os.getenv(\"HF_TOKEN\"))"
   ]
  },
  {
   "cell_type": "code",
   "execution_count": 6,
   "metadata": {},
   "outputs": [
    {
     "name": "stderr",
     "output_type": "stream",
     "text": [
      "Loading checkpoint shards: 100%|██████████| 3/3 [00:00<00:00, 13.72it/s]\n"
     ]
    }
   ],
   "source": [
    "pipe = pipeline(\n",
    "    \"text-generation\",\n",
    "    model=\"google/gemma-2-2b\",\n",
    "    device=\"mps\",  # replace with \"mps\" to run on a Mac device\n",
    ")"
   ]
  },
  {
   "cell_type": "code",
   "execution_count": 8,
   "metadata": {},
   "outputs": [
    {
     "name": "stdout",
     "output_type": "stream",
     "text": [
      "Once upon a time, there was a little girl who was born with a heart condition. She was born with a hole in her heart, and she had to have surgery to fix it. The surgery was successful, and the little girl was able to live a normal life.\n",
      "\n",
      "The little girl was very happy, and she loved to play with her friends. She was also very smart, and she loved to read books. One day, the little girl’s parents took her to the doctor for a checkup. The doctor told them that the little girl’s heart was still not working properly. The doctor said that the little girl would need to have another surgery to fix her heart. The little girl was very sad, but she knew that she had to have the surgery. The little girl’s parents were very worried, but they knew that they had to do what was best for their daughter. The little girl had the surgery, and she was able to live a normal life.\n",
      "\n",
      "The little girl was very happy, and she loved to play with her friends. She was also very smart, and she loved to read books. One day, the little girl’s parents took her to the doctor for a checkup. The doctor told them that the little girl’s heart was still not working\n"
     ]
    }
   ],
   "source": [
    "text = \"Once upon a time,\"\n",
    "outputs = pipe(text, max_new_tokens=256)\n",
    "response = outputs[0][\"generated_text\"]\n",
    "print(response)"
   ]
  }
 ],
 "metadata": {
  "kernelspec": {
   "display_name": ".venv",
   "language": "python",
   "name": "python3"
  },
  "language_info": {
   "codemirror_mode": {
    "name": "ipython",
    "version": 3
   },
   "file_extension": ".py",
   "mimetype": "text/x-python",
   "name": "python",
   "nbconvert_exporter": "python",
   "pygments_lexer": "ipython3",
   "version": "3.9.6"
  }
 },
 "nbformat": 4,
 "nbformat_minor": 2
}
